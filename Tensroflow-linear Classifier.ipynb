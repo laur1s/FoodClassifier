{
 "cells": [
  {
   "cell_type": "code",
   "execution_count": 1,
   "metadata": {
    "collapsed": true
   },
   "outputs": [],
   "source": [
    "import tensorflow as tf\n",
    "import numpy as np"
   ]
  },
  {
   "cell_type": "code",
   "execution_count": 2,
   "metadata": {
    "collapsed": true
   },
   "outputs": [],
   "source": [
    "from src.data import Data\n",
    "from src.plothelp import *\n",
    "import time"
   ]
  },
  {
   "cell_type": "markdown",
   "metadata": {},
   "source": [
    "Simple Example of tensorflow opearation flow"
   ]
  },
  {
   "cell_type": "code",
   "execution_count": 3,
   "metadata": {
    "collapsed": false
   },
   "outputs": [
    {
     "name": "stdout",
     "output_type": "stream",
     "text": [
      "Tensor(\"Add:0\", shape=(), dtype=int32)\n"
     ]
    }
   ],
   "source": [
    "import tensorflow as tf\n",
    "a = tf.add(5, 5) #node that adds two numbers is created but not executed\n",
    "print(a)"
   ]
  },
  {
   "cell_type": "code",
   "execution_count": 4,
   "metadata": {
    "collapsed": false
   },
   "outputs": [
    {
     "name": "stdout",
     "output_type": "stream",
     "text": [
      "10\n"
     ]
    }
   ],
   "source": [
    "with tf.Session() as sess:\n",
    "  writer = tf.summary.FileWriter('./graphs', sess.graph) # for displaying graph in tensorboard\n",
    "  res = sess.run(a) # executes the node in the session\n",
    "  print (res)"
   ]
  },
  {
   "cell_type": "markdown",
   "metadata": {},
   "source": [
    "### Load and pre-process the dataset:\n"
   ]
  },
  {
   "cell_type": "code",
   "execution_count": 5,
   "metadata": {
    "collapsed": false
   },
   "outputs": [],
   "source": [
    "data = Data(\"img\")\n",
    "data.load_pickle(\"100x100.pickle \")\n",
    "X_train, X_test, y_train, y_test = data.train_test_split()"
   ]
  },
  {
   "cell_type": "code",
   "execution_count": 6,
   "metadata": {
    "collapsed": false
   },
   "outputs": [
    {
     "name": "stdout",
     "output_type": "stream",
     "text": [
      "(4698, 30000) (522, 30000) (4698,) (522,)\n"
     ]
    }
   ],
   "source": [
    "X_trains = np.asarray(X_train).reshape((len(X_train), -1))\n",
    "X_tests = np.asarray(X_test).reshape((len(X_test), -1))\n",
    "y_trains = np.asarray(y_train)\n",
    "y_tests = np.asarray(y_test)\n",
    "print(X_trains.shape, X_tests.shape, y_trains.shape, y_tests.shape)"
   ]
  },
  {
   "cell_type": "code",
   "execution_count": 7,
   "metadata": {
    "collapsed": false
   },
   "outputs": [
    {
     "data": {
      "text/plain": [
       "(4698, 4)"
      ]
     },
     "execution_count": 7,
     "metadata": {},
     "output_type": "execute_result"
    }
   ],
   "source": [
    "y_oh, y_test_oh= data.one_hot(y_trains, y_tests)\n",
    "y_oh.shape"
   ]
  },
  {
   "cell_type": "code",
   "execution_count": 8,
   "metadata": {
    "collapsed": false
   },
   "outputs": [
    {
     "data": {
      "text/plain": [
       "array([ 1.,  0.,  0.,  0.])"
      ]
     },
     "execution_count": 8,
     "metadata": {},
     "output_type": "execute_result"
    }
   ],
   "source": [
    "y_oh[0,:] #Example of 1 element in the training data set one-hot-encoded"
   ]
  },
  {
   "cell_type": "code",
   "execution_count": 9,
   "metadata": {
    "collapsed": false
   },
   "outputs": [
    {
     "name": "stdout",
     "output_type": "stream",
     "text": [
      "(54, 87, 4)\n"
     ]
    }
   ],
   "source": [
    "# Split y_train into 54 batches containing 87 img\n",
    "y_batch = np.array_split(y_oh, 54 )\n",
    "y_batch = np.asarray(y_batch)\n",
    "print(y_batch.shape)"
   ]
  },
  {
   "cell_type": "code",
   "execution_count": 10,
   "metadata": {
    "collapsed": false,
    "scrolled": true
   },
   "outputs": [
    {
     "name": "stdout",
     "output_type": "stream",
     "text": [
      "(54, 87, 30000)\n"
     ]
    }
   ],
   "source": [
    "# Split X_test into 54 batches of 87 img\n",
    "X_train_batch = np.array_split(X_trains, 54 )\n",
    "X_train_batch = np.asarray(X_train_batch)\n",
    "print(X_train_batch.shape)"
   ]
  },
  {
   "cell_type": "code",
   "execution_count": 11,
   "metadata": {
    "collapsed": true
   },
   "outputs": [],
   "source": [
    "#Hyper Paremeters of the model\n",
    "learning_rate = 0.005 # learning rate of the models\n",
    "batch_size = 87 # number of images in one training batch\n",
    "n_epochs = 100 #number of training epochs"
   ]
  },
  {
   "cell_type": "code",
   "execution_count": 12,
   "metadata": {
    "collapsed": true
   },
   "outputs": [],
   "source": [
    "X = tf.placeholder(tf.float32, [None, 30000])\n",
    "Y = tf.placeholder(tf.float32, [None, 4])"
   ]
  },
  {
   "cell_type": "code",
   "execution_count": 13,
   "metadata": {
    "collapsed": true
   },
   "outputs": [],
   "source": [
    "w = tf.Variable(tf.random_normal(shape=[30000, 4], stddev=0.01), name=\"weights\")"
   ]
  },
  {
   "cell_type": "code",
   "execution_count": 14,
   "metadata": {
    "collapsed": false
   },
   "outputs": [],
   "source": [
    "logits = tf.matmul(X, w)"
   ]
  },
  {
   "cell_type": "code",
   "execution_count": 15,
   "metadata": {
    "collapsed": false
   },
   "outputs": [],
   "source": [
    "entropy = tf.nn.softmax_cross_entropy_with_logits(logits=logits, labels=Y)\n",
    "loss = tf.reduce_mean(entropy)\n",
    "optimizer = tf.train.AdamOptimizer(learning_rate=learning_rate).minimize(loss)\n",
    "acc = tf.equal(tf.argmax(logits, 1), tf.argmax(Y, 1))\n",
    "acc = tf.reduce_mean(tf.cast(acc, tf.float32))\n",
    "\n",
    "init = tf.global_variables_initializer()"
   ]
  },
  {
   "cell_type": "code",
   "execution_count": 16,
   "metadata": {
    "collapsed": true
   },
   "outputs": [],
   "source": [
    "saver = tf.train.Saver()"
   ]
  },
  {
   "cell_type": "code",
   "execution_count": 17,
   "metadata": {
    "collapsed": false
   },
   "outputs": [],
   "source": [
    "tf.summary.scalar(\"loss\", loss) # Create a summary to monitor cost tensor\n",
    "tf.summary.scalar(\"accuracy\", acc) # Create a summary to monitor accuracy tensor\n",
    "merged_summary_op = tf.summary.merge_all() # Merge all summaries into a single op"
   ]
  },
  {
   "cell_type": "code",
   "execution_count": 18,
   "metadata": {
<<<<<<< HEAD
    "collapsed": false
   },
   "outputs": [
    {
     "name": "stdout",
     "output_type": "stream",
     "text": [
      "Training on full dataset\n",
      "Epoch: 0001 cost= 125.570724487 accuracy=  Tensor(\"Mean_1:0\", shape=(), dtype=float32)\n",
      "Epoch: 0002 cost= 14655.303710938 accuracy=  Tensor(\"Mean_1:0\", shape=(), dtype=float32)\n",
      "Epoch: 0003 cost= 14777.497070312 accuracy=  Tensor(\"Mean_1:0\", shape=(), dtype=float32)\n",
      "Epoch: 0004 cost= 13846.156250000 accuracy=  Tensor(\"Mean_1:0\", shape=(), dtype=float32)\n",
      "Epoch: 0005 cost= 11284.514648438 accuracy=  Tensor(\"Mean_1:0\", shape=(), dtype=float32)\n",
      "Epoch: 0006 cost= 6837.778320312 accuracy=  Tensor(\"Mean_1:0\", shape=(), dtype=float32)\n",
      "Epoch: 0007 cost= 6801.282226562 accuracy=  Tensor(\"Mean_1:0\", shape=(), dtype=float32)\n",
      "Epoch: 0008 cost= 7583.766601562 accuracy=  Tensor(\"Mean_1:0\", shape=(), dtype=float32)\n",
      "Epoch: 0009 cost= 4100.625488281 accuracy=  Tensor(\"Mean_1:0\", shape=(), dtype=float32)\n",
      "Epoch: 0010 cost= 6516.531250000 accuracy=  Tensor(\"Mean_1:0\", shape=(), dtype=float32)\n",
      "Epoch: 0011 cost= 6090.519042969 accuracy=  Tensor(\"Mean_1:0\", shape=(), dtype=float32)\n",
      "Epoch: 0012 cost= 5165.909179688 accuracy=  Tensor(\"Mean_1:0\", shape=(), dtype=float32)\n",
      "Epoch: 0013 cost= 4082.746337891 accuracy=  Tensor(\"Mean_1:0\", shape=(), dtype=float32)\n",
      "Epoch: 0014 cost= 4660.497558594 accuracy=  Tensor(\"Mean_1:0\", shape=(), dtype=float32)\n",
      "Epoch: 0015 cost= 2081.133789062 accuracy=  Tensor(\"Mean_1:0\", shape=(), dtype=float32)\n",
      "Epoch: 0016 cost= 3626.838134766 accuracy=  Tensor(\"Mean_1:0\", shape=(), dtype=float32)\n",
      "Epoch: 0017 cost= 4167.870117188 accuracy=  Tensor(\"Mean_1:0\", shape=(), dtype=float32)\n",
      "Epoch: 0018 cost= 3645.908447266 accuracy=  Tensor(\"Mean_1:0\", shape=(), dtype=float32)\n",
      "Epoch: 0019 cost= 3711.408203125 accuracy=  Tensor(\"Mean_1:0\", shape=(), dtype=float32)\n",
      "Epoch: 0020 cost= 3202.968994141 accuracy=  Tensor(\"Mean_1:0\", shape=(), dtype=float32)\n",
      "Epoch: 0021 cost= 1933.031127930 accuracy=  Tensor(\"Mean_1:0\", shape=(), dtype=float32)\n",
      "Epoch: 0022 cost= 1689.737915039 accuracy=  Tensor(\"Mean_1:0\", shape=(), dtype=float32)\n",
      "Epoch: 0023 cost= 2886.940185547 accuracy=  Tensor(\"Mean_1:0\", shape=(), dtype=float32)\n",
      "Epoch: 0024 cost= 2484.299316406 accuracy=  Tensor(\"Mean_1:0\", shape=(), dtype=float32)\n",
      "Epoch: 0025 cost= 2090.984863281 accuracy=  Tensor(\"Mean_1:0\", shape=(), dtype=float32)\n",
      "Epoch: 0026 cost= 1330.525146484 accuracy=  Tensor(\"Mean_1:0\", shape=(), dtype=float32)\n",
      "Epoch: 0027 cost= 1643.136596680 accuracy=  Tensor(\"Mean_1:0\", shape=(), dtype=float32)\n",
      "Epoch: 0028 cost= 2039.957275391 accuracy=  Tensor(\"Mean_1:0\", shape=(), dtype=float32)\n",
      "Epoch: 0029 cost= 1702.803222656 accuracy=  Tensor(\"Mean_1:0\", shape=(), dtype=float32)\n",
      "Epoch: 0030 cost= 1594.318115234 accuracy=  Tensor(\"Mean_1:0\", shape=(), dtype=float32)\n",
      "Epoch: 0031 cost= 1138.294677734 accuracy=  Tensor(\"Mean_1:0\", shape=(), dtype=float32)\n",
      "Epoch: 0032 cost= 1367.339843750 accuracy=  Tensor(\"Mean_1:0\", shape=(), dtype=float32)\n",
      "Epoch: 0033 cost= 1635.600097656 accuracy=  Tensor(\"Mean_1:0\", shape=(), dtype=float32)\n",
      "Epoch: 0034 cost= 965.029663086 accuracy=  Tensor(\"Mean_1:0\", shape=(), dtype=float32)\n",
      "Epoch: 0035 cost= 916.067565918 accuracy=  Tensor(\"Mean_1:0\", shape=(), dtype=float32)\n",
      "Epoch: 0036 cost= 1355.744262695 accuracy=  Tensor(\"Mean_1:0\", shape=(), dtype=float32)\n",
      "Epoch: 0037 cost= 1084.754760742 accuracy=  Tensor(\"Mean_1:0\", shape=(), dtype=float32)\n",
      "Epoch: 0038 cost= 824.308410645 accuracy=  Tensor(\"Mean_1:0\", shape=(), dtype=float32)\n",
      "Epoch: 0039 cost= 696.908752441 accuracy=  Tensor(\"Mean_1:0\", shape=(), dtype=float32)\n",
      "Epoch: 0040 cost= 899.304931641 accuracy=  Tensor(\"Mean_1:0\", shape=(), dtype=float32)\n",
      "Epoch: 0041 cost= 942.944641113 accuracy=  Tensor(\"Mean_1:0\", shape=(), dtype=float32)\n",
      "Epoch: 0042 cost= 581.838378906 accuracy=  Tensor(\"Mean_1:0\", shape=(), dtype=float32)\n",
      "Epoch: 0043 cost= 695.427551270 accuracy=  Tensor(\"Mean_1:0\", shape=(), dtype=float32)\n",
      "Epoch: 0044 cost= 698.998535156 accuracy=  Tensor(\"Mean_1:0\", shape=(), dtype=float32)\n",
      "Epoch: 0045 cost= 762.513427734 accuracy=  Tensor(\"Mean_1:0\", shape=(), dtype=float32)\n",
      "Epoch: 0046 cost= 598.621887207 accuracy=  Tensor(\"Mean_1:0\", shape=(), dtype=float32)\n",
      "Epoch: 0047 cost= 823.325195312 accuracy=  Tensor(\"Mean_1:0\", shape=(), dtype=float32)\n",
      "Epoch: 0048 cost= 779.844360352 accuracy=  Tensor(\"Mean_1:0\", shape=(), dtype=float32)\n",
      "Epoch: 0049 cost= 795.105407715 accuracy=  Tensor(\"Mean_1:0\", shape=(), dtype=float32)\n",
      "Epoch: 0050 cost= 473.590454102 accuracy=  Tensor(\"Mean_1:0\", shape=(), dtype=float32)\n",
      "Epoch: 0051 cost= 1058.689941406 accuracy=  Tensor(\"Mean_1:0\", shape=(), dtype=float32)\n",
      "Epoch: 0052 cost= 1026.361328125 accuracy=  Tensor(\"Mean_1:0\", shape=(), dtype=float32)\n",
      "Epoch: 0053 cost= 1587.317626953 accuracy=  Tensor(\"Mean_1:0\", shape=(), dtype=float32)\n",
      "Epoch: 0054 cost= 847.490661621 accuracy=  Tensor(\"Mean_1:0\", shape=(), dtype=float32)\n",
      "Epoch: 0055 cost= 1156.459350586 accuracy=  Tensor(\"Mean_1:0\", shape=(), dtype=float32)\n",
      "Epoch: 0056 cost= 1524.039550781 accuracy=  Tensor(\"Mean_1:0\", shape=(), dtype=float32)\n",
      "Epoch: 0057 cost= 1327.545898438 accuracy=  Tensor(\"Mean_1:0\", shape=(), dtype=float32)\n",
      "Epoch: 0058 cost= 701.888488770 accuracy=  Tensor(\"Mean_1:0\", shape=(), dtype=float32)\n",
      "Epoch: 0059 cost= 1156.262573242 accuracy=  Tensor(\"Mean_1:0\", shape=(), dtype=float32)\n",
      "Epoch: 0060 cost= 1078.867675781 accuracy=  Tensor(\"Mean_1:0\", shape=(), dtype=float32)\n",
      "Epoch: 0061 cost= 709.380615234 accuracy=  Tensor(\"Mean_1:0\", shape=(), dtype=float32)\n",
      "Epoch: 0062 cost= 966.883056641 accuracy=  Tensor(\"Mean_1:0\", shape=(), dtype=float32)\n",
      "Epoch: 0063 cost= 722.407165527 accuracy=  Tensor(\"Mean_1:0\", shape=(), dtype=float32)\n",
      "Epoch: 0064 cost= 1425.783691406 accuracy=  Tensor(\"Mean_1:0\", shape=(), dtype=float32)\n",
      "Epoch: 0065 cost= 511.035064697 accuracy=  Tensor(\"Mean_1:0\", shape=(), dtype=float32)\n",
      "Epoch: 0066 cost= 858.862854004 accuracy=  Tensor(\"Mean_1:0\", shape=(), dtype=float32)\n",
      "Epoch: 0067 cost= 789.717224121 accuracy=  Tensor(\"Mean_1:0\", shape=(), dtype=float32)\n",
      "Epoch: 0068 cost= 424.812805176 accuracy=  Tensor(\"Mean_1:0\", shape=(), dtype=float32)\n",
      "Epoch: 0069 cost= 715.953674316 accuracy=  Tensor(\"Mean_1:0\", shape=(), dtype=float32)\n",
      "Epoch: 0070 cost= 839.848022461 accuracy=  Tensor(\"Mean_1:0\", shape=(), dtype=float32)\n",
      "Epoch: 0071 cost= 770.217407227 accuracy=  Tensor(\"Mean_1:0\", shape=(), dtype=float32)\n",
      "Epoch: 0072 cost= 978.205383301 accuracy=  Tensor(\"Mean_1:0\", shape=(), dtype=float32)\n",
      "Epoch: 0073 cost= 586.207580566 accuracy=  Tensor(\"Mean_1:0\", shape=(), dtype=float32)\n",
      "Epoch: 0074 cost= 1071.363403320 accuracy=  Tensor(\"Mean_1:0\", shape=(), dtype=float32)\n",
      "Epoch: 0075 cost= 645.866271973 accuracy=  Tensor(\"Mean_1:0\", shape=(), dtype=float32)\n",
      "Epoch: 0076 cost= 795.878356934 accuracy=  Tensor(\"Mean_1:0\", shape=(), dtype=float32)\n",
      "Epoch: 0077 cost= 645.901123047 accuracy=  Tensor(\"Mean_1:0\", shape=(), dtype=float32)\n",
      "Epoch: 0078 cost= 795.078369141 accuracy=  Tensor(\"Mean_1:0\", shape=(), dtype=float32)\n",
      "Epoch: 0079 cost= 946.346191406 accuracy=  Tensor(\"Mean_1:0\", shape=(), dtype=float32)\n",
      "Epoch: 0080 cost= 671.398437500 accuracy=  Tensor(\"Mean_1:0\", shape=(), dtype=float32)\n",
      "Epoch: 0081 cost= 908.945617676 accuracy=  Tensor(\"Mean_1:0\", shape=(), dtype=float32)\n",
      "Epoch: 0082 cost= 785.513427734 accuracy=  Tensor(\"Mean_1:0\", shape=(), dtype=float32)\n",
      "Epoch: 0083 cost= 373.007415771 accuracy=  Tensor(\"Mean_1:0\", shape=(), dtype=float32)\n",
      "Epoch: 0084 cost= 1115.699462891 accuracy=  Tensor(\"Mean_1:0\", shape=(), dtype=float32)\n",
      "Epoch: 0085 cost= 642.187377930 accuracy=  Tensor(\"Mean_1:0\", shape=(), dtype=float32)\n",
      "Epoch: 0086 cost= 1344.806640625 accuracy=  Tensor(\"Mean_1:0\", shape=(), dtype=float32)\n",
      "Epoch: 0087 cost= 1359.037353516 accuracy=  Tensor(\"Mean_1:0\", shape=(), dtype=float32)\n",
      "Epoch: 0088 cost= 565.620666504 accuracy=  Tensor(\"Mean_1:0\", shape=(), dtype=float32)\n",
      "Epoch: 0089 cost= 1440.759277344 accuracy=  Tensor(\"Mean_1:0\", shape=(), dtype=float32)\n",
      "Epoch: 0090 cost= 1339.991455078 accuracy=  Tensor(\"Mean_1:0\", shape=(), dtype=float32)\n",
      "Epoch: 0091 cost= 550.465881348 accuracy=  Tensor(\"Mean_1:0\", shape=(), dtype=float32)\n",
      "Epoch: 0092 cost= 1065.997802734 accuracy=  Tensor(\"Mean_1:0\", shape=(), dtype=float32)\n",
      "Epoch: 0093 cost= 386.345611572 accuracy=  Tensor(\"Mean_1:0\", shape=(), dtype=float32)\n",
      "Epoch: 0094 cost= 815.972351074 accuracy=  Tensor(\"Mean_1:0\", shape=(), dtype=float32)\n",
      "Epoch: 0095 cost= 1080.928710938 accuracy=  Tensor(\"Mean_1:0\", shape=(), dtype=float32)\n",
      "Epoch: 0096 cost= 650.410461426 accuracy=  Tensor(\"Mean_1:0\", shape=(), dtype=float32)\n",
      "Epoch: 0097 cost= 756.648986816 accuracy=  Tensor(\"Mean_1:0\", shape=(), dtype=float32)\n",
      "Epoch: 0098 cost= 851.174865723 accuracy=  Tensor(\"Mean_1:0\", shape=(), dtype=float32)\n",
      "Epoch: 0099 cost= 1244.963867188 accuracy=  Tensor(\"Mean_1:0\", shape=(), dtype=float32)\n",
      "Epoch: 0100 cost= 422.342498779 accuracy=  Tensor(\"Mean_1:0\", shape=(), dtype=float32)\n",
      "Model saved in file: ./models/linear-nobatch.ckpt\n"
=======
    "collapsed": true
   },
   "outputs": [
    {
     "ename": "SyntaxError",
     "evalue": "Missing parentheses in call to 'print' (<ipython-input-18-7ea30d3aa369>, line 1)",
     "output_type": "error",
     "traceback": [
      "\u001b[0;36m  File \u001b[0;32m\"<ipython-input-18-7ea30d3aa369>\"\u001b[0;36m, line \u001b[0;32m1\u001b[0m\n\u001b[0;31m    print a\u001b[0m\n\u001b[0m          ^\u001b[0m\n\u001b[0;31mSyntaxError\u001b[0m\u001b[0;31m:\u001b[0m Missing parentheses in call to 'print'\n"
>>>>>>> 5de0fb5... added classification models
     ]
    }
   ],
   "source": [
    "print(\"Training on full dataset\")\n",
    "with tf.Session() as sess:\n",
    "  writer = tf.summary.FileWriter('./graphs', sess.graph)\n",
    "  sess.run(init)\n",
    "  for i in range(100):  # train the model n_epochs times\n",
    "    _, c= sess.run([optimizer, loss], feed_dict={X: X_trains, Y: y_oh})\n",
    "    \n",
    "    \n",
    "    print(\"Epoch:\", '%04d' % (i+1), \"cost=\", \"{:.9f}\".format(c), \"accuracy= \", acc)\n",
    "       \n",
    "  save_path = saver.save(sess, \"./models/linear-nobatch.ckpt\")\n",
    "  print(\"Model saved in file: %s\" % save_path)"
   ]
  },
  {
   "cell_type": "code",
<<<<<<< HEAD
   "execution_count": 19,
   "metadata": {
    "collapsed": false
=======
   "execution_count": 28,
   "metadata": {
    "collapsed": true
>>>>>>> 5de0fb5... added classification models
   },
   "outputs": [
    {
     "name": "stdout",
     "output_type": "stream",
     "text": [
<<<<<<< HEAD
      "Epoch: 001 cost= 4811.284450107 accuracy= 0.372711792036\n",
      "Epoch: 002 cost= 1009.868964301 accuracy= 0.467432947622\n",
      "Epoch: 003 cost= 1307.994362725 accuracy= 0.450191568445\n",
      "Epoch: 004 cost= 1037.797539040 accuracy= 0.498509999779\n",
      "Epoch: 005 cost= 928.786337958 accuracy= 0.504682840572\n",
      "Epoch: 006 cost= 802.308016742 accuracy= 0.524052789366\n",
      "Epoch: 007 cost= 760.427946868 accuracy= 0.541932735178\n",
      "Epoch: 008 cost= 1190.974916246 accuracy= 0.497445715798\n",
      "Epoch: 009 cost= 728.881514373 accuracy= 0.551085567585\n",
      "Epoch: 010 cost= 753.206642433 accuracy= 0.543848447226\n",
      "Epoch: 011 cost= 1659.875055949 accuracy= 0.504044273937\n",
      "Epoch: 012 cost= 918.874555800 accuracy= 0.534057041285\n",
      "Epoch: 013 cost= 730.098554823 accuracy= 0.582375478965\n",
      "Epoch: 014 cost= 1037.108192161 accuracy= 0.536185612833\n",
      "Epoch: 015 cost= 722.452779134 accuracy= 0.570881223789\n",
      "Epoch: 016 cost= 823.001987599 accuracy= 0.567049804109\n",
      "Epoch: 017 cost= 899.664298164 accuracy= 0.583226904273\n",
      "Epoch: 018 cost= 1010.998044049 accuracy= 0.550021283604\n",
      "Epoch: 019 cost= 565.276828342 accuracy= 0.654746699112\n",
      "Epoch: 020 cost= 514.186530784 accuracy= 0.606853980157\n",
      "Epoch: 021 cost= 550.114548577 accuracy= 0.610685397077\n",
      "Epoch: 022 cost= 926.674743087 accuracy= 0.534482756147\n",
      "Epoch: 023 cost= 655.033267551 accuracy= 0.635376759149\n",
      "Epoch: 024 cost= 573.180567989 accuracy= 0.61749680561\n",
      "Epoch: 025 cost= 624.878477026 accuracy= 0.610046826579\n",
      "Epoch: 026 cost= 646.092144719 accuracy= 0.617283948594\n",
      "Epoch: 027 cost= 541.168230127 accuracy= 0.622818219993\n",
      "Epoch: 028 cost= 357.636036626 accuracy= 0.68667517768\n",
      "Epoch: 029 cost= 429.340450993 accuracy= 0.650915281088\n",
      "Epoch: 030 cost= 1062.339766891 accuracy= 0.572584080475\n",
      "Epoch: 031 cost= 519.732780739 accuracy= 0.656023841213\n",
      "Epoch: 032 cost= 488.380669770 accuracy= 0.663899529311\n",
      "Epoch: 033 cost= 587.744049637 accuracy= 0.618986800313\n",
      "Epoch: 034 cost= 818.197617142 accuracy= 0.585355469474\n",
      "Epoch: 035 cost= 943.048904984 accuracy= 0.590676880545\n",
      "Epoch: 036 cost= 976.218657600 accuracy= 0.602171134618\n",
      "Epoch: 037 cost= 1158.605556064 accuracy= 0.565985525648\n",
      "Epoch: 038 cost= 853.451789008 accuracy= 0.623456790491\n",
      "Epoch: 039 cost= 544.720911520 accuracy= 0.693273731956\n",
      "Epoch: 040 cost= 469.377687384 accuracy= 0.699233715733\n",
      "Epoch: 041 cost= 708.918498569 accuracy= 0.638782459277\n",
      "Epoch: 042 cost= 1045.680023758 accuracy= 0.582801186376\n",
      "Epoch: 043 cost= 1381.038278650 accuracy= 0.559812682646\n",
      "Epoch: 044 cost= 873.801803589 accuracy= 0.632609622346\n",
      "Epoch: 045 cost= 1005.067268654 accuracy= 0.615581099082\n",
      "Epoch: 046 cost= 896.831761678 accuracy= 0.629842484991\n",
      "Epoch: 047 cost= 552.009844462 accuracy= 0.694550872401\n",
      "Epoch: 048 cost= 628.486069573 accuracy= 0.668582373747\n",
      "Epoch: 049 cost= 452.916656777 accuracy= 0.716475093254\n",
      "Epoch: 050 cost= 615.789024918 accuracy= 0.660919538803\n",
      "Epoch: 051 cost= 349.669171651 accuracy= 0.732226477729\n",
      "Epoch: 052 cost= 656.152680291 accuracy= 0.640698166357\n",
      "Epoch: 053 cost= 521.520648391 accuracy= 0.678586633669\n",
      "Epoch: 054 cost= 972.184783370 accuracy= 0.629629624111\n",
      "Epoch: 055 cost= 927.313480801 accuracy= 0.634099616497\n",
      "Epoch: 056 cost= 968.332529421 accuracy= 0.619625375779\n",
      "Epoch: 057 cost= 695.437390928 accuracy= 0.67496807211\n",
      "Epoch: 058 cost= 631.828831567 accuracy= 0.66581523584\n",
      "Epoch: 059 cost= 722.803279735 accuracy= 0.641123882046\n",
      "Epoch: 060 cost= 869.734114470 accuracy= 0.61621966958\n",
      "Epoch: 061 cost= 688.404439008 accuracy= 0.68433375491\n",
      "Epoch: 062 cost= 541.599557100 accuracy= 0.700723714851\n",
      "Epoch: 063 cost= 610.357927110 accuracy= 0.69433801704\n",
      "Epoch: 064 cost= 672.384176607 accuracy= 0.682418051141\n",
      "Epoch: 065 cost= 697.007303591 accuracy= 0.675819495762\n",
      "Epoch: 066 cost= 531.892979657 accuracy= 0.712430816558\n",
      "Epoch: 067 cost= 1526.944636592 accuracy= 0.572371218491\n",
      "Epoch: 068 cost= 1276.335095441 accuracy= 0.634951042908\n",
      "Epoch: 069 cost= 1057.351660269 accuracy= 0.665815240807\n",
      "Epoch: 070 cost= 970.574937326 accuracy= 0.672626651548\n",
      "Epoch: 071 cost= 938.173461066 accuracy= 0.678160919083\n",
      "Epoch: 072 cost= 892.120824884 accuracy= 0.666453809098\n",
      "Epoch: 073 cost= 919.862754822 accuracy= 0.659216689843\n",
      "Epoch: 074 cost= 957.215174922 accuracy= 0.664963810532\n",
      "Epoch: 075 cost= 840.072943511 accuracy= 0.672413792323\n",
      "Epoch: 076 cost= 977.049044291 accuracy= 0.643465303161\n",
      "Epoch: 077 cost= 675.624834696 accuracy= 0.696679438706\n",
      "Epoch: 078 cost= 800.073015849 accuracy= 0.675606641504\n",
      "Epoch: 079 cost= 1117.130631623 accuracy= 0.63431247241\n",
      "Epoch: 080 cost= 807.176986129 accuracy= 0.689442317243\n",
      "Epoch: 081 cost= 985.535338225 accuracy= 0.678160919635\n",
      "Epoch: 082 cost= 802.081816779 accuracy= 0.68624946751\n",
      "Epoch: 083 cost= 1366.462728995 accuracy= 0.612601106917\n",
      "Epoch: 084 cost= 1090.612978052 accuracy= 0.637931032865\n",
      "Epoch: 085 cost= 1147.402317754 accuracy= 0.649212431025\n",
      "Epoch: 086 cost= 1709.318816008 accuracy= 0.588335461087\n",
      "Epoch: 087 cost= 901.014105903 accuracy= 0.67326521432\n",
      "Epoch: 088 cost= 1316.264939485 accuracy= 0.624946784642\n",
      "Epoch: 089 cost= 1323.663243047 accuracy= 0.629842486095\n",
      "Epoch: 090 cost= 1013.456270571 accuracy= 0.670710935085\n",
      "Epoch: 091 cost= 752.792933146 accuracy= 0.693912301902\n",
      "Epoch: 092 cost= 701.599167435 accuracy= 0.70412941553\n",
      "Epoch: 093 cost= 777.354847378 accuracy= 0.686888032489\n",
      "Epoch: 094 cost= 1009.880286040 accuracy= 0.659216688739\n",
      "Epoch: 095 cost= 1260.816336455 accuracy= 0.641123883702\n",
      "Epoch: 096 cost= 905.976467556 accuracy= 0.691358026531\n",
      "Epoch: 097 cost= 871.462131359 accuracy= 0.6811409118\n",
      "Epoch: 098 cost= 1199.830624051 accuracy= 0.658365259016\n",
      "Epoch: 099 cost= 843.398768107 accuracy= 0.700723709332\n",
      "Epoch: 100 cost= 754.027701484 accuracy= 0.707109411006\n",
=======
      "Epoch: 001 cost= 565709.815556279 accuracy= 0.306726266664\n",
      "Epoch: 002 cost= 401139.434606481 accuracy= 0.363346104545\n",
      "Epoch: 003 cost= 349518.865162037 accuracy= 0.394423156701\n",
      "Epoch: 004 cost= 356296.905526620 accuracy= 0.383567473679\n",
      "Epoch: 005 cost= 307014.866898148 accuracy= 0.424435933155\n",
      "Epoch: 006 cost= 296364.200810185 accuracy= 0.429331627709\n",
      "Epoch: 007 cost= 271533.585503472 accuracy= 0.444444442789\n",
      "Epoch: 008 cost= 266642.361979167 accuracy= 0.43912302813\n",
      "Epoch: 009 cost= 273615.852141204 accuracy= 0.439548744648\n",
      "Epoch: 010 cost= 277616.499855324 accuracy= 0.436355894638\n",
      "Epoch: 011 cost= 258379.697771991 accuracy= 0.445083013287\n",
      "Epoch: 012 cost= 275902.160590278 accuracy= 0.44955300043\n",
      "Epoch: 013 cost= 242522.921006944 accuracy= 0.468922943429\n",
      "Epoch: 014 cost= 227293.061053241 accuracy= 0.474244360571\n",
      "Epoch: 015 cost= 244742.041232639 accuracy= 0.46679437878\n",
      "Epoch: 016 cost= 239569.605758102 accuracy= 0.482332906789\n",
      "Epoch: 017 cost= 221590.670138889 accuracy= 0.483822899284\n",
      "Epoch: 018 cost= 202118.568938079 accuracy= 0.496807149163\n",
      "Epoch: 019 cost= 231507.764322917 accuracy= 0.479991484019\n",
      "Epoch: 020 cost= 208015.974392361 accuracy= 0.499148570277\n",
      "Epoch: 021 cost= 218351.603298611 accuracy= 0.487654317308\n",
      "Epoch: 022 cost= 225355.174768518 accuracy= 0.484035762372\n",
      "Epoch: 023 cost= 200005.769675926 accuracy= 0.50404426897\n",
      "Epoch: 024 cost= 210398.890263310 accuracy= 0.486377177967\n",
      "Epoch: 025 cost= 205290.386863426 accuracy= 0.506385695051\n",
      "Epoch: 026 cost= 195764.852430556 accuracy= 0.507237118151\n",
      "Epoch: 027 cost= 212724.376591435 accuracy= 0.488931459961\n",
      "Epoch: 028 cost= 202950.839988426 accuracy= 0.502554277579\n",
      "Epoch: 029 cost= 209652.117187500 accuracy= 0.496168578664\n",
      "Epoch: 030 cost= 201731.049696181 accuracy= 0.510855682194\n",
      "Epoch: 031 cost= 235153.351417824 accuracy= 0.487867177085\n",
      "Epoch: 032 cost= 213758.403139467 accuracy= 0.493614304397\n",
      "Epoch: 033 cost= 206359.627025463 accuracy= 0.505959983777\n",
      "Epoch: 034 cost= 172826.146339699 accuracy= 0.538952746325\n",
      "Epoch: 035 cost= 169784.985894097 accuracy= 0.528309919768\n",
      "Epoch: 036 cost= 197701.042679398 accuracy= 0.509578542025\n",
      "Epoch: 037 cost= 174217.582320602 accuracy= 0.532141334481\n",
      "Epoch: 038 cost= 194367.001374421 accuracy= 0.513197100273\n",
      "Epoch: 039 cost= 207958.304542824 accuracy= 0.517667089899\n",
      "Epoch: 040 cost= 183711.066767940 accuracy= 0.521285651459\n",
      "Epoch: 041 cost= 196984.045862269 accuracy= 0.509791401249\n",
      "Epoch: 042 cost= 167853.101273148 accuracy= 0.535759894384\n",
      "Epoch: 043 cost= 200980.486834491 accuracy= 0.514899955855\n",
      "Epoch: 044 cost= 201637.146701389 accuracy= 0.501915704321\n",
      "Epoch: 045 cost= 174831.887659144 accuracy= 0.526607065289\n",
      "Epoch: 046 cost= 198267.388527199 accuracy= 0.514048533307\n",
      "Epoch: 047 cost= 174728.256944444 accuracy= 0.528948488059\n",
      "Epoch: 048 cost= 199764.334201389 accuracy= 0.512558533638\n",
      "Epoch: 049 cost= 171696.787398727 accuracy= 0.545977008012\n",
      "Epoch: 050 cost= 163360.095196759 accuracy= 0.548105575972\n",
      "Epoch: 051 cost= 197509.854528357 accuracy= 0.518518517415\n",
      "Epoch: 052 cost= 184588.012586806 accuracy= 0.531289909173\n",
      "Epoch: 053 cost= 172151.284288194 accuracy= 0.53235418929\n",
      "Epoch: 054 cost= 169361.142939815 accuracy= 0.533631332495\n",
      "Epoch: 055 cost= 179357.766999421 accuracy= 0.52830992032\n",
      "Epoch: 056 cost= 180643.628978588 accuracy= 0.527458491701\n",
      "Epoch: 057 cost= 161294.655888310 accuracy= 0.549808426036\n",
      "Epoch: 058 cost= 158256.581669560 accuracy= 0.557045548602\n",
      "Epoch: 059 cost= 156340.223090278 accuracy= 0.554065560853\n",
      "Epoch: 060 cost= 174611.029152199 accuracy= 0.530864198451\n",
      "Epoch: 061 cost= 162831.135850694 accuracy= 0.541081307663\n",
      "Epoch: 062 cost= 160046.413049769 accuracy= 0.549382713106\n",
      "Epoch: 063 cost= 163038.677951389 accuracy= 0.553001271906\n",
      "Epoch: 064 cost= 173204.776041667 accuracy= 0.531077054364\n",
      "Epoch: 065 cost= 156762.297815394 accuracy= 0.559599828941\n",
      "Epoch: 066 cost= 166419.362340856 accuracy= 0.5451255816\n",
      "Epoch: 067 cost= 155547.618272569 accuracy= 0.555129842074\n",
      "Epoch: 068 cost= 137837.433412905 accuracy= 0.57449978866\n",
      "Epoch: 069 cost= 157236.600260417 accuracy= 0.551936993444\n",
      "Epoch: 070 cost= 132891.571252894 accuracy= 0.594082585088\n",
      "Epoch: 071 cost= 147145.034505208 accuracy= 0.561941253918\n",
      "Epoch: 072 cost= 171156.168547454 accuracy= 0.533205618461\n",
      "Epoch: 073 cost= 133132.715567130 accuracy= 0.579182630336\n",
      "Epoch: 074 cost= 181305.130135995 accuracy= 0.531077052708\n",
      "Epoch: 075 cost= 151317.488064236 accuracy= 0.566624093387\n",
      "Epoch: 076 cost= 163116.525462963 accuracy= 0.552575562287\n",
      "Epoch: 077 cost= 148912.917245370 accuracy= 0.571732649649\n",
      "Epoch: 078 cost= 163847.119646991 accuracy= 0.55236270527\n",
      "Epoch: 079 cost= 150631.346064815 accuracy= 0.56257981669\n",
      "Epoch: 080 cost= 144638.511646412 accuracy= 0.570029797377\n",
      "Epoch: 081 cost= 181190.443721065 accuracy= 0.526394209376\n",
      "Epoch: 082 cost= 162859.825665509 accuracy= 0.549169854985\n",
      "Epoch: 083 cost= 125462.267578125 accuracy= 0.595359726636\n",
      "Epoch: 084 cost= 145429.999565972 accuracy= 0.572158368649\n",
      "Epoch: 085 cost= 162147.716724537 accuracy= 0.544061304243\n",
      "Epoch: 086 cost= 161156.228587963 accuracy= 0.560876969938\n",
      "Epoch: 087 cost= 142636.586588542 accuracy= 0.568539803779\n",
      "Epoch: 088 cost= 155200.550745081 accuracy= 0.553639844612\n",
      "Epoch: 089 cost= 134198.488317419 accuracy= 0.587271174347\n",
      "Epoch: 090 cost= 164867.114655671 accuracy= 0.55321413389\n",
      "Epoch: 091 cost= 146964.131655093 accuracy= 0.571945506665\n",
      "Epoch: 092 cost= 146968.129050926 accuracy= 0.55789697667\n",
      "Epoch: 093 cost= 142044.116970486 accuracy= 0.571732649097\n",
      "Epoch: 094 cost= 109418.658275463 accuracy= 0.610472540613\n",
      "Epoch: 095 cost= 146064.360532407 accuracy= 0.576628352205\n",
      "Epoch: 096 cost= 139881.301504630 accuracy= 0.574712642917\n",
      "Epoch: 097 cost= 149029.757595486 accuracy= 0.559599827285\n",
      "Epoch: 098 cost= 136640.946831597 accuracy= 0.588122605174\n",
      "Epoch: 099 cost= 151656.436559606 accuracy= 0.565772666423\n",
      "Epoch: 100 cost= 150432.468460648 accuracy= 0.551724138083\n",
>>>>>>> 5de0fb5... added classification models
      "Model saved in file: ./models/linear-gd.ckpt\n"
     ]
    }
   ],
   "source": [
    "with tf.Session() as sess:\n",
    "  writer = tf.summary.FileWriter('./graphs', sess.graph)\n",
    "  sess.run(init)\n",
    "  batch_img = 54 # number of images in one batch\n",
    "  for i in range(n_epochs):  # train the model n_epochs times\n",
    "    avg_cost = 0.\n",
    "    avg_acc = 0.\n",
    "    \n",
    "    for j in range(batch_img):\n",
    "            X_batch = X_train_batch[j,:]\n",
    "            Y_batch = y_batch[j,:]\n",
    "            _, c, summary, a = sess.run([optimizer, loss,merged_summary_op, acc], feed_dict={X: X_batch, Y: Y_batch})\n",
    "            \n",
    "            writer.add_summary(summary, i * batch_img + i)\n",
    "            avg_acc += a/batch_img\n",
    "            avg_cost += c / batch_img\n",
    "        \n",
    "    print(\"Epoch:\", '%03d' % (i+1), \"cost=\", \"{:.9f}\".format(avg_cost), \"accuracy=\",avg_acc)\n",
    "\n",
    "  save_path = saver.save(sess, \"./models/linear-gd.ckpt\")\n",
    "  print(\"Model saved in file: %s\" % save_path)"
   ]
  },
  {
   "cell_type": "code",
<<<<<<< HEAD
   "execution_count": 20,
=======
   "execution_count": 27,
>>>>>>> 5de0fb5... added classification models
   "metadata": {
    "collapsed": true
   },
   "outputs": [],
   "source": [
    "#optimizer = tf.train.GradientDescentOptimizer(learning_rate=learning_rate).minimize(loss)\n",
    "\n",
    "##for changine optimizer from adam to gradien descent "
   ]
  },
  {
   "cell_type": "code",
<<<<<<< HEAD
   "execution_count": 21,
=======
   "execution_count": 32,
>>>>>>> 5de0fb5... added classification models
   "metadata": {
    "collapsed": false
   },
   "outputs": [
    {
     "name": "stdout",
     "output_type": "stream",
     "text": [
      "Model restored.\n",
<<<<<<< HEAD
      "Accuracy 0.5076628352490421 Predicted  265.0  correctly\n"
=======
      "Accuracy 0.4444444444444444 Predicted  232.0  correctly\n"
>>>>>>> 5de0fb5... added classification models
     ]
    }
   ],
   "source": [
    "with tf.Session() as sess:\n",
    "  saver.restore(sess, \"./models/linear-gd.ckpt\")\n",
    "  print(\"Model restored.\")\n",
    "  \n",
    "  _, loss_batch, logits_batch = sess.run([optimizer, loss, logits],\n",
    "                                         feed_dict={X: X_tests, Y: y_test_oh})\n",
    "  preds = tf.nn.softmax(logits_batch)\n",
    "  correct_preds = tf.equal(tf.argmax(preds, 1), tf.argmax(y_test_oh, 1))\n",
    "  accuracy = tf.reduce_sum(tf.cast(correct_preds, tf.float32))\n",
    "  correct_preds = sess.run(accuracy)\n",
    "  print (\"Accuracy {0}\".format(correct_preds / 522), \"Predicted \",correct_preds ,\" correctly\")"
   ]
  }
 ],
 "metadata": {
  "kernelspec": {
   "display_name": "Python [conda root]",
   "language": "python",
   "name": "conda-root-py"
  },
  "language_info": {
   "codemirror_mode": {
    "name": "ipython",
    "version": 3
   },
   "file_extension": ".py",
   "mimetype": "text/x-python",
   "name": "python",
   "nbconvert_exporter": "python",
   "pygments_lexer": "ipython3",
   "version": "3.5.2"
  }
 },
 "nbformat": 4,
 "nbformat_minor": 2
}
