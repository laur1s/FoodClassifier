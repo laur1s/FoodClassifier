{
 "cells": [
  {
   "cell_type": "code",
   "execution_count": 1,
   "metadata": {
    "collapsed": true
   },
   "outputs": [],
   "source": [
    "import tensorflow as tf\n",
    "import numpy as np"
   ]
  },
  {
   "cell_type": "code",
   "execution_count": 2,
   "metadata": {
    "collapsed": true
   },
   "outputs": [],
   "source": [
    "from src.data import Data\n",
    "from src.plothelp import *\n",
    "import time"
   ]
  },
  {
   "cell_type": "markdown",
   "metadata": {},
   "source": [
    "Simple Example of tensorflow opearation flow"
   ]
  },
  {
   "cell_type": "code",
   "execution_count": 3,
   "metadata": {
    "collapsed": false
   },
   "outputs": [
    {
     "name": "stdout",
     "output_type": "stream",
     "text": [
      "Tensor(\"Add:0\", shape=(), dtype=int32)\n"
     ]
    }
   ],
   "source": [
    "import tensorflow as tf\n",
    "a = tf.add(5, 5) #node that adds two numbers is created but not executed\n",
    "print(a)"
   ]
  },
  {
   "cell_type": "code",
   "execution_count": 4,
   "metadata": {
    "collapsed": false
   },
   "outputs": [
    {
     "name": "stdout",
     "output_type": "stream",
     "text": [
      "10\n"
     ]
    }
   ],
   "source": [
    "with tf.Session() as sess:\n",
    "  writer = tf.summary.FileWriter('./graphs', sess.graph) # for displaying graph in tensorboard\n",
    "  res = sess.run(a) # executes the node in the session\n",
    "  print (res)"
   ]
  },
  {
   "cell_type": "markdown",
   "metadata": {},
   "source": [
    "### Load and pre-process the dataset:\n"
   ]
  },
  {
   "cell_type": "code",
   "execution_count": 5,
   "metadata": {
    "collapsed": false
   },
   "outputs": [],
   "source": [
    "data = Data(\"img\")\n",
    "data.load_pickle(\"100x100.pickle \")\n",
    "X_train, X_test, y_train, y_test = data.train_test_split()"
   ]
  },
  {
   "cell_type": "code",
   "execution_count": 6,
   "metadata": {
    "collapsed": false
   },
   "outputs": [
    {
     "name": "stdout",
     "output_type": "stream",
     "text": [
      "(4698, 30000) (522, 30000) (4698,) (522,)\n"
     ]
    }
   ],
   "source": [
    "X_trains = np.asarray(X_train).reshape((len(X_train), -1))\n",
    "X_tests = np.asarray(X_test).reshape((len(X_test), -1))\n",
    "y_trains = np.asarray(y_train)\n",
    "y_tests = np.asarray(y_test)\n",
    "print(X_trains.shape, X_tests.shape, y_trains.shape, y_tests.shape)"
   ]
  },
  {
   "cell_type": "code",
   "execution_count": 7,
   "metadata": {
    "collapsed": false
   },
   "outputs": [
    {
     "data": {
      "text/plain": [
       "(4698, 4)"
      ]
     },
     "execution_count": 7,
     "metadata": {},
     "output_type": "execute_result"
    }
   ],
   "source": [
    "y_oh, y_test_oh= data.one_hot(y_trains, y_tests)\n",
    "y_oh.shape"
   ]
  },
  {
   "cell_type": "code",
   "execution_count": 8,
   "metadata": {
    "collapsed": false
   },
   "outputs": [
    {
     "data": {
      "text/plain": [
       "array([ 1.,  0.,  0.,  0.])"
      ]
     },
     "execution_count": 8,
     "metadata": {},
     "output_type": "execute_result"
    }
   ],
   "source": [
    "y_oh[0,:] #Example of 1 element in the training data set one-hot-encoded"
   ]
  },
  {
   "cell_type": "code",
   "execution_count": 9,
   "metadata": {
    "collapsed": false
   },
   "outputs": [
    {
     "name": "stdout",
     "output_type": "stream",
     "text": [
      "(54, 87, 4)\n"
     ]
    }
   ],
   "source": [
    "# Split y_train into 54 batches containing 87 img\n",
    "y_batch = np.array_split(y_oh, 54 )\n",
    "y_batch = np.asarray(y_batch)\n",
    "print(y_batch.shape)"
   ]
  },
  {
   "cell_type": "code",
   "execution_count": 10,
   "metadata": {
    "collapsed": false,
    "scrolled": true
   },
   "outputs": [
    {
     "name": "stdout",
     "output_type": "stream",
     "text": [
      "(54, 87, 30000)\n"
     ]
    }
   ],
   "source": [
    "# Split X_test into 54 batches of 87 img\n",
    "X_train_batch = np.array_split(X_trains, 54 )\n",
    "X_train_batch = np.asarray(X_train_batch)\n",
    "print(X_train_batch.shape)"
   ]
  },
  {
   "cell_type": "code",
   "execution_count": 11,
   "metadata": {
    "collapsed": true
   },
   "outputs": [],
   "source": [
    "#Hyper Paremeters of the model\n",
    "learning_rate = 0.005 # learning rate of the models\n",
    "batch_size = 87 # number of images in one training batch\n",
    "n_epochs = 100 #number of training epochs"
   ]
  },
  {
   "cell_type": "code",
   "execution_count": 12,
   "metadata": {
    "collapsed": true
   },
   "outputs": [],
   "source": [
    "X = tf.placeholder(tf.float32, [None, 30000])\n",
    "Y = tf.placeholder(tf.float32, [None, 4])"
   ]
  },
  {
   "cell_type": "code",
   "execution_count": 13,
   "metadata": {
    "collapsed": true
   },
   "outputs": [],
   "source": [
    "w = tf.Variable(tf.random_normal(shape=[30000, 4], stddev=0.01), name=\"weights\")"
   ]
  },
  {
   "cell_type": "code",
   "execution_count": 14,
   "metadata": {
    "collapsed": false
   },
   "outputs": [],
   "source": [
    "logits = tf.matmul(X, w)"
   ]
  },
  {
   "cell_type": "code",
   "execution_count": 15,
   "metadata": {
    "collapsed": false
   },
   "outputs": [],
   "source": [
    "entropy = tf.nn.softmax_cross_entropy_with_logits(logits=logits, labels=Y)\n",
    "loss = tf.reduce_mean(entropy)\n",
    "optimizer = tf.train.AdamOptimizer(learning_rate=learning_rate).minimize(loss)\n",
    "acc = tf.equal(tf.argmax(logits, 1), tf.argmax(Y, 1))\n",
    "acc = tf.reduce_mean(tf.cast(acc, tf.float32))\n",
    "\n",
    "init = tf.global_variables_initializer()"
   ]
  },
  {
   "cell_type": "code",
   "execution_count": 16,
   "metadata": {
    "collapsed": true
   },
   "outputs": [],
   "source": [
    "saver = tf.train.Saver()"
   ]
  },
  {
   "cell_type": "code",
   "execution_count": 17,
   "metadata": {
    "collapsed": false
   },
   "outputs": [],
   "source": [
    "tf.summary.scalar(\"loss\", loss) # Create a summary to monitor cost tensor\n",
    "tf.summary.scalar(\"accuracy\", acc) # Create a summary to monitor accuracy tensor\n",
    "merged_summary_op = tf.summary.merge_all() # Merge all summaries into a single op"
   ]
  },
  {
   "cell_type": "code",
   "execution_count": 18,
   "metadata": {
    "collapsed": true
   },
   "outputs": [
    {
     "ename": "SyntaxError",
     "evalue": "Missing parentheses in call to 'print' (<ipython-input-18-7ea30d3aa369>, line 1)",
     "output_type": "error",
     "traceback": [
      "\u001b[0;36m  File \u001b[0;32m\"<ipython-input-18-7ea30d3aa369>\"\u001b[0;36m, line \u001b[0;32m1\u001b[0m\n\u001b[0;31m    print a\u001b[0m\n\u001b[0m          ^\u001b[0m\n\u001b[0;31mSyntaxError\u001b[0m\u001b[0;31m:\u001b[0m Missing parentheses in call to 'print'\n"
     ]
    }
   ],
   "source": [
    "print(\"Training on full dataset\")\n",
    "with tf.Session() as sess:\n",
    "  writer = tf.summary.FileWriter('./graphs', sess.graph)\n",
    "  sess.run(init)\n",
    "  for i in range(100):  # train the model n_epochs times\n",
    "    _, c= sess.run([optimizer, loss], feed_dict={X: X_trains, Y: y_oh})\n",
    "    \n",
    "    \n",
    "    print(\"Epoch:\", '%04d' % (i+1), \"cost=\", \"{:.9f}\".format(c), \"accuracy= \", acc)\n",
    "       \n",
    "  save_path = saver.save(sess, \"./models/linear-nobatch.ckpt\")\n",
    "  print(\"Model saved in file: %s\" % save_path)"
   ]
  },
  {
   "cell_type": "code",
   "execution_count": 28,
   "metadata": {
    "collapsed": true
   },
   "outputs": [
    {
     "name": "stdout",
     "output_type": "stream",
     "text": [
      "Epoch: 001 cost= 565709.815556279 accuracy= 0.306726266664\n",
      "Epoch: 002 cost= 401139.434606481 accuracy= 0.363346104545\n",
      "Epoch: 003 cost= 349518.865162037 accuracy= 0.394423156701\n",
      "Epoch: 004 cost= 356296.905526620 accuracy= 0.383567473679\n",
      "Epoch: 005 cost= 307014.866898148 accuracy= 0.424435933155\n",
      "Epoch: 006 cost= 296364.200810185 accuracy= 0.429331627709\n",
      "Epoch: 007 cost= 271533.585503472 accuracy= 0.444444442789\n",
      "Epoch: 008 cost= 266642.361979167 accuracy= 0.43912302813\n",
      "Epoch: 009 cost= 273615.852141204 accuracy= 0.439548744648\n",
      "Epoch: 010 cost= 277616.499855324 accuracy= 0.436355894638\n",
      "Epoch: 011 cost= 258379.697771991 accuracy= 0.445083013287\n",
      "Epoch: 012 cost= 275902.160590278 accuracy= 0.44955300043\n",
      "Epoch: 013 cost= 242522.921006944 accuracy= 0.468922943429\n",
      "Epoch: 014 cost= 227293.061053241 accuracy= 0.474244360571\n",
      "Epoch: 015 cost= 244742.041232639 accuracy= 0.46679437878\n",
      "Epoch: 016 cost= 239569.605758102 accuracy= 0.482332906789\n",
      "Epoch: 017 cost= 221590.670138889 accuracy= 0.483822899284\n",
      "Epoch: 018 cost= 202118.568938079 accuracy= 0.496807149163\n",
      "Epoch: 019 cost= 231507.764322917 accuracy= 0.479991484019\n",
      "Epoch: 020 cost= 208015.974392361 accuracy= 0.499148570277\n",
      "Epoch: 021 cost= 218351.603298611 accuracy= 0.487654317308\n",
      "Epoch: 022 cost= 225355.174768518 accuracy= 0.484035762372\n",
      "Epoch: 023 cost= 200005.769675926 accuracy= 0.50404426897\n",
      "Epoch: 024 cost= 210398.890263310 accuracy= 0.486377177967\n",
      "Epoch: 025 cost= 205290.386863426 accuracy= 0.506385695051\n",
      "Epoch: 026 cost= 195764.852430556 accuracy= 0.507237118151\n",
      "Epoch: 027 cost= 212724.376591435 accuracy= 0.488931459961\n",
      "Epoch: 028 cost= 202950.839988426 accuracy= 0.502554277579\n",
      "Epoch: 029 cost= 209652.117187500 accuracy= 0.496168578664\n",
      "Epoch: 030 cost= 201731.049696181 accuracy= 0.510855682194\n",
      "Epoch: 031 cost= 235153.351417824 accuracy= 0.487867177085\n",
      "Epoch: 032 cost= 213758.403139467 accuracy= 0.493614304397\n",
      "Epoch: 033 cost= 206359.627025463 accuracy= 0.505959983777\n",
      "Epoch: 034 cost= 172826.146339699 accuracy= 0.538952746325\n",
      "Epoch: 035 cost= 169784.985894097 accuracy= 0.528309919768\n",
      "Epoch: 036 cost= 197701.042679398 accuracy= 0.509578542025\n",
      "Epoch: 037 cost= 174217.582320602 accuracy= 0.532141334481\n",
      "Epoch: 038 cost= 194367.001374421 accuracy= 0.513197100273\n",
      "Epoch: 039 cost= 207958.304542824 accuracy= 0.517667089899\n",
      "Epoch: 040 cost= 183711.066767940 accuracy= 0.521285651459\n",
      "Epoch: 041 cost= 196984.045862269 accuracy= 0.509791401249\n",
      "Epoch: 042 cost= 167853.101273148 accuracy= 0.535759894384\n",
      "Epoch: 043 cost= 200980.486834491 accuracy= 0.514899955855\n",
      "Epoch: 044 cost= 201637.146701389 accuracy= 0.501915704321\n",
      "Epoch: 045 cost= 174831.887659144 accuracy= 0.526607065289\n",
      "Epoch: 046 cost= 198267.388527199 accuracy= 0.514048533307\n",
      "Epoch: 047 cost= 174728.256944444 accuracy= 0.528948488059\n",
      "Epoch: 048 cost= 199764.334201389 accuracy= 0.512558533638\n",
      "Epoch: 049 cost= 171696.787398727 accuracy= 0.545977008012\n",
      "Epoch: 050 cost= 163360.095196759 accuracy= 0.548105575972\n",
      "Epoch: 051 cost= 197509.854528357 accuracy= 0.518518517415\n",
      "Epoch: 052 cost= 184588.012586806 accuracy= 0.531289909173\n",
      "Epoch: 053 cost= 172151.284288194 accuracy= 0.53235418929\n",
      "Epoch: 054 cost= 169361.142939815 accuracy= 0.533631332495\n",
      "Epoch: 055 cost= 179357.766999421 accuracy= 0.52830992032\n",
      "Epoch: 056 cost= 180643.628978588 accuracy= 0.527458491701\n",
      "Epoch: 057 cost= 161294.655888310 accuracy= 0.549808426036\n",
      "Epoch: 058 cost= 158256.581669560 accuracy= 0.557045548602\n",
      "Epoch: 059 cost= 156340.223090278 accuracy= 0.554065560853\n",
      "Epoch: 060 cost= 174611.029152199 accuracy= 0.530864198451\n",
      "Epoch: 061 cost= 162831.135850694 accuracy= 0.541081307663\n",
      "Epoch: 062 cost= 160046.413049769 accuracy= 0.549382713106\n",
      "Epoch: 063 cost= 163038.677951389 accuracy= 0.553001271906\n",
      "Epoch: 064 cost= 173204.776041667 accuracy= 0.531077054364\n",
      "Epoch: 065 cost= 156762.297815394 accuracy= 0.559599828941\n",
      "Epoch: 066 cost= 166419.362340856 accuracy= 0.5451255816\n",
      "Epoch: 067 cost= 155547.618272569 accuracy= 0.555129842074\n",
      "Epoch: 068 cost= 137837.433412905 accuracy= 0.57449978866\n",
      "Epoch: 069 cost= 157236.600260417 accuracy= 0.551936993444\n",
      "Epoch: 070 cost= 132891.571252894 accuracy= 0.594082585088\n",
      "Epoch: 071 cost= 147145.034505208 accuracy= 0.561941253918\n",
      "Epoch: 072 cost= 171156.168547454 accuracy= 0.533205618461\n",
      "Epoch: 073 cost= 133132.715567130 accuracy= 0.579182630336\n",
      "Epoch: 074 cost= 181305.130135995 accuracy= 0.531077052708\n",
      "Epoch: 075 cost= 151317.488064236 accuracy= 0.566624093387\n",
      "Epoch: 076 cost= 163116.525462963 accuracy= 0.552575562287\n",
      "Epoch: 077 cost= 148912.917245370 accuracy= 0.571732649649\n",
      "Epoch: 078 cost= 163847.119646991 accuracy= 0.55236270527\n",
      "Epoch: 079 cost= 150631.346064815 accuracy= 0.56257981669\n",
      "Epoch: 080 cost= 144638.511646412 accuracy= 0.570029797377\n",
      "Epoch: 081 cost= 181190.443721065 accuracy= 0.526394209376\n",
      "Epoch: 082 cost= 162859.825665509 accuracy= 0.549169854985\n",
      "Epoch: 083 cost= 125462.267578125 accuracy= 0.595359726636\n",
      "Epoch: 084 cost= 145429.999565972 accuracy= 0.572158368649\n",
      "Epoch: 085 cost= 162147.716724537 accuracy= 0.544061304243\n",
      "Epoch: 086 cost= 161156.228587963 accuracy= 0.560876969938\n",
      "Epoch: 087 cost= 142636.586588542 accuracy= 0.568539803779\n",
      "Epoch: 088 cost= 155200.550745081 accuracy= 0.553639844612\n",
      "Epoch: 089 cost= 134198.488317419 accuracy= 0.587271174347\n",
      "Epoch: 090 cost= 164867.114655671 accuracy= 0.55321413389\n",
      "Epoch: 091 cost= 146964.131655093 accuracy= 0.571945506665\n",
      "Epoch: 092 cost= 146968.129050926 accuracy= 0.55789697667\n",
      "Epoch: 093 cost= 142044.116970486 accuracy= 0.571732649097\n",
      "Epoch: 094 cost= 109418.658275463 accuracy= 0.610472540613\n",
      "Epoch: 095 cost= 146064.360532407 accuracy= 0.576628352205\n",
      "Epoch: 096 cost= 139881.301504630 accuracy= 0.574712642917\n",
      "Epoch: 097 cost= 149029.757595486 accuracy= 0.559599827285\n",
      "Epoch: 098 cost= 136640.946831597 accuracy= 0.588122605174\n",
      "Epoch: 099 cost= 151656.436559606 accuracy= 0.565772666423\n",
      "Epoch: 100 cost= 150432.468460648 accuracy= 0.551724138083\n",
      "Model saved in file: ./models/linear-gd.ckpt\n"
     ]
    }
   ],
   "source": [
    "with tf.Session() as sess:\n",
    "  writer = tf.summary.FileWriter('./graphs', sess.graph)\n",
    "  sess.run(init)\n",
    "  batch_img = 54 # number of images in one batch\n",
    "  for i in range(n_epochs):  # train the model n_epochs times\n",
    "    avg_cost = 0.\n",
    "    avg_acc = 0.\n",
    "    \n",
    "    for j in range(batch_img):\n",
    "            X_batch = X_train_batch[j,:]\n",
    "            Y_batch = y_batch[j,:]\n",
    "            _, c, summary, a = sess.run([optimizer, loss,merged_summary_op, acc], feed_dict={X: X_batch, Y: Y_batch})\n",
    "            \n",
    "            writer.add_summary(summary, i * batch_img + i)\n",
    "            avg_acc += a/batch_img\n",
    "            avg_cost += c / batch_img\n",
    "        \n",
    "    print(\"Epoch:\", '%03d' % (i+1), \"cost=\", \"{:.9f}\".format(avg_cost), \"accuracy=\",avg_acc)\n",
    "\n",
    "  save_path = saver.save(sess, \"./models/linear-gd.ckpt\")\n",
    "  print(\"Model saved in file: %s\" % save_path)"
   ]
  },
  {
   "cell_type": "code",
   "execution_count": 27,
   "metadata": {
    "collapsed": true
   },
   "outputs": [],
   "source": [
    "#optimizer = tf.train.GradientDescentOptimizer(learning_rate=learning_rate).minimize(loss)\n",
    "\n",
    "##for changine optimizer from adam to gradien descent "
   ]
  },
  {
   "cell_type": "code",
   "execution_count": 32,
   "metadata": {
    "collapsed": false
   },
   "outputs": [
    {
     "name": "stdout",
     "output_type": "stream",
     "text": [
      "Model restored.\n",
      "Accuracy 0.4444444444444444 Predicted  232.0  correctly\n"
     ]
    }
   ],
   "source": [
    "with tf.Session() as sess:\n",
    "  saver.restore(sess, \"./models/linear-gd.ckpt\")\n",
    "  print(\"Model restored.\")\n",
    "  \n",
    "  _, loss_batch, logits_batch = sess.run([optimizer, loss, logits],\n",
    "                                         feed_dict={X: X_tests, Y: y_test_oh})\n",
    "  preds = tf.nn.softmax(logits_batch)\n",
    "  correct_preds = tf.equal(tf.argmax(preds, 1), tf.argmax(y_test_oh, 1))\n",
    "  accuracy = tf.reduce_sum(tf.cast(correct_preds, tf.float32))\n",
    "  correct_preds = sess.run(accuracy)\n",
    "  print (\"Accuracy {0}\".format(correct_preds / 522), \"Predicted \",correct_preds ,\" correctly\")"
   ]
  }
 ],
 "metadata": {
  "kernelspec": {
   "display_name": "Python [conda root]",
   "language": "python",
   "name": "conda-root-py"
  },
  "language_info": {
   "codemirror_mode": {
    "name": "ipython",
    "version": 3
   },
   "file_extension": ".py",
   "mimetype": "text/x-python",
   "name": "python",
   "nbconvert_exporter": "python",
   "pygments_lexer": "ipython3",
   "version": "3.5.2"
  }
 },
 "nbformat": 4,
 "nbformat_minor": 2
}
