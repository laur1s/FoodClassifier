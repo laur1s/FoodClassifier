{
 "cells": [
  {
   "cell_type": "markdown",
   "metadata": {},
   "source": [
    " # KNN Classifier\n"
   ]
  },
  {
   "cell_type": "code",
   "execution_count": 1,
   "metadata": {
    "collapsed": false
   },
   "outputs": [],
   "source": [
    "from src.data import Data\n",
    "from src.plothelp import *\n",
    "import time\n",
    "from sklearn.neighbors import KNeighborsClassifier\n",
    "from sklearn.metrics import confusion_matrix\n",
    "from sklearn import model_selection\n",
    "from sklearn.metrics import accuracy_score\n",
    "from sklearn.metrics import classification_report\n",
    "import numpy as np\n",
    "%matplotlib inline  "
   ]
  },
  {
   "cell_type": "code",
   "execution_count": 2,
   "metadata": {
    "collapsed": true
   },
   "outputs": [],
   "source": [
    "data = Data(\"img\")\n",
    "data.load_pickle(\"100x100.pickle \")\n",
    "X_train, X_test, y_train, y_test = data.train_test_split()"
   ]
  },
  {
   "cell_type": "code",
   "execution_count": 3,
   "metadata": {
    "collapsed": false
   },
   "outputs": [
    {
     "name": "stdout",
     "output_type": "stream",
     "text": [
      "(4698, 30000) (522, 30000) (4698,) (522,)\n"
     ]
    }
   ],
   "source": [
    "X_trains = np.asarray(X_train).reshape((len(X_train), -1))\n",
    "X_tests = np.asarray(X_test).reshape((len(X_test), -1))\n",
    "y_trains = np.asarray(y_train)\n",
    "y_tests = np.asarray(y_test)\n",
    "print(X_trains.shape, X_tests.shape, y_trains.shape, y_tests.shape)"
   ]
  },
  {
   "cell_type": "code",
   "execution_count": 4,
   "metadata": {
    "collapsed": false
   },
   "outputs": [
    {
     "name": "stdout",
     "output_type": "stream",
     "text": [
      "Classifier train in  49.92044687271118 seconds\n"
     ]
    }
   ],
   "source": [
    "start = time.time()\n",
    "neigh = KNeighborsClassifier(n_neighbors=18)\n",
    "neigh.fit(X_trains,  y_trains)\n",
    "end = time.time()\n",
    "elapsed = end - start\n",
    "print(\"Classifier train in \", elapsed, \"seconds\")"
   ]
  },
  {
   "cell_type": "code",
   "execution_count": 4,
   "metadata": {
    "collapsed": false
   },
   "outputs": [
    {
     "name": "stdout",
     "output_type": "stream",
     "text": [
      "Classifier tested in  158.88989186286926 seconds\n"
     ]
    }
   ],
   "source": [
    "start = time.time()\n",
    "y =neigh.predict(X_tests)\n",
    "end = time.time()\n",
    "elapsed = end - start\n",
    "print(\"Classifier tested in \", elapsed, \"seconds\")"
   ]
  },
  {
   "cell_type": "code",
   "execution_count": 5,
   "metadata": {
    "collapsed": false
   },
   "outputs": [
    {
     "name": "stdout",
     "output_type": "stream",
     "text": [
      "K-NN 45.5938697318 %\n",
      "Confusion matrix, without normalization\n",
      "[[60 25 48  6]\n",
      " [46 77 47 20]\n",
      " [ 0  0  3  1]\n",
      " [33 25 33 98]]\n"
     ]
    },
    {
     "data": {
      "image/png": "[encoded data removed]",
      "text/plain": [
       "<matplotlib.figure.Figure at 0x1b8a48a6048>"
      ]
     },
     "metadata": {},
     "output_type": "display_data"
    }
   ],
   "source": [
    "accuracy = accuracy_score(y, y_tests)\n",
    "print(\"K-NN\", accuracy * 100, \"%\")\n",
    "matrix = confusion_matrix(y,y_tests)\n",
    "plot_confusion_matrix(matrix,neigh.classes_)"
   ]
  },
  {
   "cell_type": "markdown",
   "metadata": {},
   "source": [
    "## Search for the best Hyper paremeters"
   ]
  },
  {
   "cell_type": "code",
   "execution_count": 8,
   "metadata": {
    "collapsed": false
   },
   "outputs": [
    {
     "name": "stdout",
     "output_type": "stream",
     "text": [
      "Classifier tested in  1513.4732248783112 seconds\n"
     ]
    }
   ],
   "source": [
    "parameter_grid = {\"n_neighbors\": np.arange(1,31,2), \"weights\": [\"uniform\", \"distance\"],\n",
    "              \"metric\": [\"euclidean\", \"cityblock\"]}\n",
    "\n",
    "start = time.time()\n",
    "\n",
    "search = model_selection.GridSearchCV(neigh, parameter_grid, n_jobs=4) #run 4 jobs in paralel\n",
    "search.fit(X_trains,y_trains)\n",
    "\n",
    "end = time.time()\n",
    "elapsed = end - start\n",
    "print(\"Classifier tested in \", elapsed, \"seconds\")"
   ]
  },
  {
   "cell_type": "code",
   "execution_count": 11,
   "metadata": {
    "collapsed": false
   },
   "outputs": [
    {
     "name": "stdout",
     "output_type": "stream",
     "text": [
      "KNeighborsClassifier(algorithm='auto', leaf_size=30, metric='euclidean',\n",
      "           metric_params=None, n_jobs=1, n_neighbors=8, p=2,\n",
      "           weights='uniform')\n",
      "0.45785440613\n",
      "{'n_neighbors': 8, 'metric': 'euclidean', 'weights': 'uniform'}\n"
     ]
    }
   ],
   "source": [
    "print(search.best_estimator_)\n",
    "print(search.best_score_)\n",
    "print(search.best_params_)"
   ]
  },
  {
   "cell_type": "code",
   "execution_count": 12,
   "metadata": {
    "collapsed": true
   },
   "outputs": [],
   "source": [
    "y_pred = search.best_estimator_.predict(X_tests)"
   ]
  },
  {
   "cell_type": "code",
   "execution_count": 14,
   "metadata": {
    "collapsed": false
   },
   "outputs": [
    {
     "name": "stdout",
     "output_type": "stream",
     "text": [
      "Confusion matrix, without normalization\n",
      "[[ 53   7  19   5]\n",
      " [ 47 101  45  12]\n",
      " [  8   1  37   5]\n",
      " [ 31  18  30 103]]\n"
     ]
    },
    {
     "data": {
      "image/png": "[encoded data removed]",
      "text/plain": [
       "<matplotlib.figure.Figure at 0x1b8ae1275c0>"
      ]
     },
     "metadata": {},
     "output_type": "display_data"
    }
   ],
   "source": [
    "matrix = confusion_matrix(y_pred,y_tests)\n",
    "plot_confusion_matrix(matrix,search.best_estimator_.classes_)\n"
   ]
  },
  {
   "cell_type": "code",
   "execution_count": 20,
   "metadata": {
    "collapsed": false
   },
   "outputs": [
    {
     "name": "stdout",
     "output_type": "stream",
     "text": [
      "                   precision    recall  f1-score   support\n",
      "\n",
      "   Fish and Chips       0.38      0.63      0.48        84\n",
      "            Pizza       0.80      0.49      0.61       205\n",
      "            Salad       0.28      0.73      0.41        51\n",
      "Vanilla Ice Cream       0.82      0.57      0.67       182\n",
      "\n",
      "      avg / total       0.69      0.56      0.59       522\n",
      "\n"
     ]
    }
   ],
   "source": [
    "print(classification_report(y_pred, y_tests))"
   ]
  },
  {
   "cell_type": "code",
   "execution_count": 21,
   "metadata": {
    "collapsed": false
   },
   "outputs": [
    {
     "name": "stdout",
     "output_type": "stream",
     "text": [
      "Test Data accuracy  score 56.3218390805 %\n"
     ]
    }
   ],
   "source": [
    "print(\"Test Data accuracy  score\", accuracy_score(y_pred, y_tests)*100,\"%\")"
   ]
  },
  {
   "cell_type": "code",
   "execution_count": null,
   "metadata": {
    "collapsed": false
   },
   "outputs": [],
   "source": [
    "%aimport src.plothelp\n",
    "src.plothelp.plot_misclassified"
   ]
  }
 ],
 "metadata": {
  "kernelspec": {
   "display_name": "Python [default]",
   "language": "python",
   "name": "python3"
  },
  "language_info": {
   "codemirror_mode": {
    "name": "ipython",
    "version": 3
   },
   "file_extension": ".py",
   "mimetype": "text/x-python",
   "name": "python",
   "nbconvert_exporter": "python",
   "pygments_lexer": "ipython3",
   "version": "3.5.2"
  }
 },
 "nbformat": 4,
 "nbformat_minor": 0
}
