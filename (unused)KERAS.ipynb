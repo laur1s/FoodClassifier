{
 "cells": [
  {
   "cell_type": "code",
   "execution_count": 1,
   "metadata": {
    "collapsed": false
   },
   "outputs": [
    {
     "name": "stderr",
     "output_type": "stream",
     "text": [
      "Using TensorFlow backend.\n"
     ]
    }
   ],
   "source": [
    "import tensorflow as tf\n",
    "import numpy\n",
    "from keras.datasets import cifar10\n",
    "from keras.models import Sequential\n",
    "from keras.layers import Dense\n",
    "from keras.layers.core import Dropout\n",
    "from keras.layers import Flatten\n",
    "from keras.constraints import maxnorm\n",
    "from keras.optimizers import SGD\n",
    "from keras.layers.convolutional import Convolution2D\n",
    "from keras.layers.convolutional import MaxPooling2D\n",
    "from keras.utils import np_utils\n",
    "from keras import backend as K\n",
    "K.set_image_dim_ordering('th')\n",
    "\n",
    "tf.python.control_flow_ops = tf\n"
   ]
  },
  {
   "cell_type": "code",
   "execution_count": 2,
   "metadata": {
    "collapsed": true
   },
   "outputs": [],
   "source": [
    "from src.data import Data\n",
    "from src.plothelp import *"
   ]
  },
  {
   "cell_type": "code",
   "execution_count": 3,
   "metadata": {
    "collapsed": true
   },
   "outputs": [],
   "source": [
    "data = Data(\"img\")\n",
    "data.load_pickle(\"100x100.pickle \")\n",
    "data.resize_img(size=[64,64])\n",
    "X_train, X_test, y_train, y_test = data.train_test_split()"
   ]
  },
  {
   "cell_type": "code",
   "execution_count": 4,
   "metadata": {
    "collapsed": false
   },
   "outputs": [
    {
     "name": "stdout",
     "output_type": "stream",
     "text": [
      "(4698, 3, 64, 64) (522, 3, 64, 64) (4698,) (522,)\n"
     ]
    }
   ],
   "source": [
    "X_train = np.asarray(X_train)\n",
    "X_test = np.asanyarray(X_test)\n",
    "y_train = np.asarray(y_train)\n",
    "y_test = np.asarray(y_test)\n",
    "X_train = np.swapaxes(X_train,1,3)\n",
    "X_test = np.swapaxes(X_test,1,3)\n",
    "print(X_train.shape, X_test.shape, y_train.shape, y_test.shape)"
   ]
  },
  {
   "cell_type": "code",
   "execution_count": 5,
   "metadata": {
    "collapsed": false
   },
   "outputs": [],
   "source": [
    "def oneHot(y_train, y_test):\n",
    "    from sklearn import preprocessing\n",
    "    \n",
    "    le = preprocessing.LabelEncoder()\n",
    "    le.fit(y_train)\n",
    "    numeric_labels =le.transform(y_train)\n",
    "    numeric_test_labels = le.transform(y_test)\n",
    "    n_classes =4\n",
    "    y_one_hot = np.eye(4)[numeric_labels]\n",
    "    y_test_code = np.eye(4)[numeric_test_labels]\n",
    "    \n",
    "    return y_one_hot, y_test_code\n",
    "    \n",
    "    "
   ]
  },
  {
   "cell_type": "code",
   "execution_count": 6,
   "metadata": {
    "collapsed": false
   },
   "outputs": [],
   "source": [
    "y_oh, y_test_oh= oneHot(y_train, y_test)"
   ]
  },
  {
   "cell_type": "code",
   "execution_count": 8,
   "metadata": {
    "collapsed": false
   },
   "outputs": [
    {
     "name": "stdout",
     "output_type": "stream",
     "text": [
      "____________________________________________________________________________________________________\n",
      "Layer (type)                     Output Shape          Param #     Connected to                     \n",
      "====================================================================================================\n",
      "convolution2d_3 (Convolution2D)  (None, 64, 62, 62)    1792        convolution2d_input_2[0][0]      \n",
      "____________________________________________________________________________________________________\n",
      "maxpooling2d_3 (MaxPooling2D)    (None, 64, 31, 31)    0           convolution2d_3[0][0]            \n",
      "____________________________________________________________________________________________________\n",
      "convolution2d_4 (Convolution2D)  (None, 64, 29, 29)    36928       maxpooling2d_3[0][0]             \n",
      "____________________________________________________________________________________________________\n",
      "maxpooling2d_4 (MaxPooling2D)    (None, 64, 14, 14)    0           convolution2d_4[0][0]            \n",
      "____________________________________________________________________________________________________\n",
      "dropout_3 (Dropout)              (None, 64, 14, 14)    0           maxpooling2d_4[0][0]             \n",
      "____________________________________________________________________________________________________\n",
      "flatten_2 (Flatten)              (None, 12544)         0           dropout_3[0][0]                  \n",
      "____________________________________________________________________________________________________\n",
      "dense_3 (Dense)                  (None, 128)           1605760     flatten_2[0][0]                  \n",
      "____________________________________________________________________________________________________\n",
      "dropout_4 (Dropout)              (None, 128)           0           dense_3[0][0]                    \n",
      "____________________________________________________________________________________________________\n",
      "dense_4 (Dense)                  (None, 4)             516         dropout_4[0][0]                  \n",
      "====================================================================================================\n",
      "Total params: 1644996\n",
      "____________________________________________________________________________________________________\n",
      "None\n"
     ]
    }
   ],
   "source": [
    "# Create the model\n",
    "model = Sequential()\n",
    "model.add(Convolution2D(64, 3, 3, activation='relu', input_shape=(3,64,64)))\n",
    "model.add(MaxPooling2D(pool_size=(2,2)))\n",
    "model.add(Convolution2D(64, 3, 3, activation='relu', input_shape=(3,64,64)))\n",
    "model.add(MaxPooling2D(pool_size=(2,2)))\n",
    "model.add(Dropout(0.1))\n",
    "model.add(Flatten())\n",
    "model.add(Dense(128, activation='relu'))\n",
    "model.add(Dropout(0.2))\n",
    "model.add(Dense(4, activation='softmax'))\n",
    "# Compile model\n",
    "lrate = 0.01\n",
    "nb_epoch=20\n",
    "decay = lrate/nb_epoch\n",
    "sgd = SGD(lr=lrate, momentum=0.9, decay=decay, nesterov=False)\n",
    "model.compile(loss='categorical_crossentropy', optimizer='adam', metrics=['accuracy'])\n",
    "print(model.summary())"
   ]
  },
  {
   "cell_type": "code",
   "execution_count": 9,
   "metadata": {
    "collapsed": false
   },
   "outputs": [
    {
     "name": "stdout",
     "output_type": "stream",
     "text": [
      "Train on 4698 samples, validate on 522 samples\n",
      "Epoch 1/20\n",
      "4698/4698 [==============================] - 180s - loss: 12.1998 - acc: 0.2420 - val_loss: 12.2584 - val_acc: 0.2395\n",
      "Epoch 2/20\n",
      "4698/4698 [==============================] - 181s - loss: 12.2653 - acc: 0.2390 - val_loss: 12.2584 - val_acc: 0.2395\n",
      "Epoch 3/20\n",
      "4698/4698 [==============================] - 183s - loss: 12.2555 - acc: 0.2395 - val_loss: 12.2584 - val_acc: 0.2395\n",
      "Epoch 4/20\n",
      "4698/4698 [==============================] - 185s - loss: 12.2687 - acc: 0.2388 - val_loss: 12.2584 - val_acc: 0.2395\n",
      "Epoch 5/20\n",
      "4698/4698 [==============================] - 183s - loss: 12.2687 - acc: 0.2388 - val_loss: 12.2584 - val_acc: 0.2395\n",
      "Epoch 6/20\n",
      "4698/4698 [==============================] - 189s - loss: 12.2653 - acc: 0.2390 - val_loss: 12.2584 - val_acc: 0.2395\n",
      "Epoch 7/20\n",
      "4698/4698 [==============================] - 185s - loss: 12.2653 - acc: 0.2390 - val_loss: 12.2584 - val_acc: 0.2395\n",
      "Epoch 8/20\n",
      "4698/4698 [==============================] - 182s - loss: 12.2653 - acc: 0.2390 - val_loss: 12.2584 - val_acc: 0.2395\n",
      "Epoch 9/20\n",
      "4698/4698 [==============================] - 188s - loss: 12.2687 - acc: 0.2388 - val_loss: 12.2584 - val_acc: 0.2395\n",
      "Epoch 10/20\n",
      "4698/4698 [==============================] - 189s - loss: 12.2687 - acc: 0.2388 - val_loss: 12.2584 - val_acc: 0.2395\n",
      "Epoch 11/20\n",
      "4698/4698 [==============================] - 190s - loss: 12.2687 - acc: 0.2388 - val_loss: 12.2584 - val_acc: 0.2395\n",
      "Epoch 12/20\n",
      "4698/4698 [==============================] - 211s - loss: 12.2687 - acc: 0.2388 - val_loss: 12.2584 - val_acc: 0.2395\n",
      "Epoch 13/20\n",
      "4698/4698 [==============================] - 220s - loss: 12.2653 - acc: 0.2390 - val_loss: 12.2584 - val_acc: 0.2395\n",
      "Epoch 14/20\n",
      "4698/4698 [==============================] - 231s - loss: 12.2721 - acc: 0.2386 - val_loss: 12.2584 - val_acc: 0.2395\n",
      "Epoch 15/20\n",
      "4698/4698 [==============================] - 226s - loss: 12.2687 - acc: 0.2388 - val_loss: 12.2584 - val_acc: 0.2395\n",
      "Epoch 16/20\n",
      "4698/4698 [==============================] - 225s - loss: 12.2687 - acc: 0.2388 - val_loss: 12.2584 - val_acc: 0.2395\n",
      "Epoch 17/20\n",
      "4698/4698 [==============================] - 190s - loss: 12.2687 - acc: 0.2388 - val_loss: 12.2584 - val_acc: 0.2395\n",
      "Epoch 18/20\n",
      "4698/4698 [==============================] - 191s - loss: 12.2687 - acc: 0.2388 - val_loss: 12.2584 - val_acc: 0.2395\n",
      "Epoch 19/20\n",
      "4698/4698 [==============================] - 190s - loss: 12.2721 - acc: 0.2386 - val_loss: 12.2584 - val_acc: 0.2395\n",
      "Epoch 20/20\n",
      "4698/4698 [==============================] - 191s - loss: 12.2687 - acc: 0.2388 - val_loss: 12.2584 - val_acc: 0.2395\n",
      "522/522 [==============================] - 11s    \n",
      "Accuracy: 23.95%\n"
     ]
    }
   ],
   "source": [
    "# Fit the model\n",
    "model.fit(X_train, y_oh, validation_data=(X_test, y_test_oh), nb_epoch=20, batch_size=100, verbose=1)\n",
    "# Final evaluation of the model\n",
    "scores = model.evaluate(X_test, y_test_oh, verbose=1)\n",
    "print(\"Accuracy: %.2f%%\" % (scores[1]*100))"
   ]
  }
 ],
 "metadata": {
  "kernelspec": {
   "display_name": "Python [conda root]",
   "language": "python",
   "name": "conda-root-py"
  },
  "language_info": {
   "codemirror_mode": {
    "name": "ipython",
    "version": 3
   },
   "file_extension": ".py",
   "mimetype": "text/x-python",
   "name": "python",
   "nbconvert_exporter": "python",
   "pygments_lexer": "ipython3",
   "version": "3.5.2"
  }
 },
 "nbformat": 4,
 "nbformat_minor": 1
}
